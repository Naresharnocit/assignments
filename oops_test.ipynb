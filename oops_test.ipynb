{
 "cells": [
  {
   "cell_type": "markdown",
   "metadata": {},
   "source": [
    "1)Problem: Create a Python class named Rectangle with attributes length and width. Implement methods to calculate the area and perimeter of the rectangle."
   ]
  },
  {
   "cell_type": "code",
   "execution_count": 1,
   "metadata": {},
   "outputs": [
    {
     "name": "stdout",
     "output_type": "stream",
     "text": [
      "8\n",
      "12\n"
     ]
    }
   ],
   "source": [
    "\n",
    "class Rectangle:\n",
    "    def __init__(self,length,width):\n",
    "        self.length = length\n",
    "        self.width = width\n",
    "\n",
    "    def area(self):\n",
    "        return self.length*self.width\n",
    "    def Perimeter(self):\n",
    "        return (self.length+self.width)*2\n",
    "    \n",
    "rect = Rectangle(2,4)\n",
    "print(rect.area())\n",
    "print(rect.Perimeter())"
   ]
  },
  {
   "cell_type": "markdown",
   "metadata": {},
   "source": [
    "2)Problem: Create a Python class Circle with attribute radius. Implement methods to calculate the area and circumference of the circle."
   ]
  },
  {
   "cell_type": "code",
   "execution_count": 3,
   "metadata": {},
   "outputs": [
    {
     "name": "stdout",
     "output_type": "stream",
     "text": [
      "113.09733552923255\n",
      "37.69911184307752\n"
     ]
    }
   ],
   "source": [
    "import math\n",
    "class Circle:\n",
    "    def __init__(self,radius):\n",
    "        self.radius = radius\n",
    "\n",
    "    def area(self):\n",
    "        return (math.pi)*(self.radius)**2\n",
    "    def circumference(self):\n",
    "        return 2*(math.pi)*(self.radius)\n",
    "    \n",
    "cir = Circle(6)\n",
    "print(cir.area())\n",
    "print(cir.circumference())"
   ]
  },
  {
   "cell_type": "markdown",
   "metadata": {},
   "source": [
    "3)Problem: Create a Python class Employee with attributes name, salary, and designation. Implement a method to display employee details."
   ]
  },
  {
   "cell_type": "code",
   "execution_count": null,
   "metadata": {},
   "outputs": [],
   "source": [
    "import math\n",
    "class Employee:\n",
    "    def __init__(self,name,salary,designation):\n",
    "        self.name = name\n",
    "        self.salary = salary\n",
    "        self.designation = designation\n",
    "\n",
    "    def Employee_details(self):\n",
    "        print(\"employee name :\",self.name)\n",
    "        print(\"employee salary :\",self.salary)\n",
    "        print(\"employee designation :\",self.designation)\n",
    "emp = Employee(\"naresh\",100000,\"softwaredevelope\")\n",
    "emp.Employee_details()"
   ]
  },
  {
   "cell_type": "markdown",
   "metadata": {},
   "source": [
    "4)Problem: Create a Python class BankAccount with attributes balance. Implement methods to deposit and withdraw money from the account."
   ]
  },
  {
   "cell_type": "code",
   "execution_count": null,
   "metadata": {},
   "outputs": [],
   "source": [
    "\n",
    "class Bank_Account:\n",
    "    def __init__(self):\n",
    "        self.balance=0\n",
    "        print(\"Hello!!! Welcome to the Deposit & Withdrawal Machine\")\n",
    " \n",
    "    def deposit(self):\n",
    "        amount=float(input(\"Enter amount to be Deposited: \"))\n",
    "        self.balance += amount\n",
    "        print(\"Amount Deposited:\",amount)\n",
    " \n",
    "    def withdraw(self):\n",
    "        amount = float(input(\"Enter amount to be Withdrawn: \"))\n",
    "        if self.balance>=amount:\n",
    "            self.balance-=amount\n",
    "            print(\"You Withdrew:\", amount)\n",
    "        else:\n",
    "            print(\"Insufficient balance  \")\n",
    " \n",
    "    def display(self):\n",
    "        print(\"Net Available Balance=\",self.balance)\n",
    " \n",
    "s = Bank_Account()  \n",
    "s.deposit()\n",
    "s.withdraw()\n",
    "s.display()"
   ]
  },
  {
   "cell_type": "markdown",
   "metadata": {},
   "source": [
    "5)Problem: Create a Python class Student with attributes name, age, and grade. Implement a method to determine if a student is eligible for graduation based on their grade (>= 70)."
   ]
  },
  {
   "cell_type": "code",
   "execution_count": 4,
   "metadata": {},
   "outputs": [],
   "source": [
    "class Student:\n",
    "    def __init__(self):\n",
    "        self.name =\"\"\n",
    "        self.age =0\n",
    "        self.grade =0\n",
    "    def draduation(self):\n",
    "        self.name =str(input(\"enter name :\"))\n",
    "        self.age = int(input(\"enter age :\"))\n",
    "        score = float(input(\"enter grade of the student :\"))\n",
    "        self.grade = score\n",
    "        if self.grade>=70:\n",
    "            print(f\"{self.name} is eligible for graduation \")\n",
    "        else:\n",
    "            print(\"not eligible for graduation\")\n",
    "\n",
    "std = Student()\n",
    "std.draduation()\n"
   ]
  },
  {
   "cell_type": "markdown",
   "metadata": {},
   "source": [
    "6)Problem: Create a Python class Car with attributes make, model, and year. Implement a method to display the car's details."
   ]
  },
  {
   "cell_type": "code",
   "execution_count": 1,
   "metadata": {},
   "outputs": [
    {
     "name": "stdout",
     "output_type": "stream",
     "text": [
      "my dream car is Audi Q7 and year 2023\n"
     ]
    }
   ],
   "source": [
    "class Car:\n",
    "    def __init__(self,make,model,year):\n",
    "        self.make = make\n",
    "        self.model = model\n",
    "        self.year = year\n",
    "        \n",
    "    def car_details(self):\n",
    "        print(f\"my dream car is {self.make} {self.model} and year {self.year}\")\n",
    "\n",
    "Cars = Car(\"Audi\",\"Q7\",2023)\n",
    "Cars.car_details()"
   ]
  },
  {
   "cell_type": "markdown",
   "metadata": {},
   "source": [
    "7)Problem: Create a Python class Book with attributes title, author, and price. Implement a method to discount the book price by a certain percentage."
   ]
  },
  {
   "cell_type": "code",
   "execution_count": null,
   "metadata": {},
   "outputs": [],
   "source": [
    "class Book:\n",
    "    def __init__(self,title,author,price,disc):\n",
    "        self.title = title\n",
    "        self.author = author\n",
    "        self.price = price\n",
    "        self.disc = disc\n",
    "    def Book_discount(self):\n",
    "        final_price = (self.price)-((self.price * self.disc)/100)\n",
    "        print(\"final price of the book : \",final_price)\n",
    "        \n",
    "bk = Book(\"the half moon\",\"mery beth\",2000,25)\n",
    "bk.Book_discount()\n"
   ]
  },
  {
   "cell_type": "markdown",
   "metadata": {},
   "source": [
    "8)Problem: Create a Python class Bank with attributes name and location. Implement a method to display the bank's details."
   ]
  },
  {
   "cell_type": "code",
   "execution_count": null,
   "metadata": {},
   "outputs": [],
   "source": [
    "class Bank:\n",
    "    def __init__(self,name,location):\n",
    "        self.name = name\n",
    "        self.lacation = location\n",
    "    def bank_details(self):\n",
    "        print(\"bank name  :\",self.name)\n",
    "        print(\"bank address :\",self.lacation)\n",
    "\n",
    "bnk = Bank(\"SBI\",\"Warangal\")\n",
    "bnk.bank_details()\n"
   ]
  },
  {
   "cell_type": "markdown",
   "metadata": {},
   "source": [
    "9)Problem: Create a Python class Dog with attributes name and age. Implement a method to determine if the dog is a puppy (age < 1)."
   ]
  },
  {
   "cell_type": "code",
   "execution_count": null,
   "metadata": {},
   "outputs": [],
   "source": [
    "class Dog:\n",
    "    def __init__(self,name,age):\n",
    "        self.name = name\n",
    "        self.age = age\n",
    "\n",
    "    def dog_name(self):\n",
    "        if self.age < 1:\n",
    "            print(\"dog name is Puppy\")\n",
    "        else:\n",
    "            print(\"dog name is :\",self.name)\n",
    "\n",
    "d = Dog(\"candy\",0.5)\n",
    "d.dog_name()"
   ]
  },
  {
   "cell_type": "markdown",
   "metadata": {},
   "source": [
    "10)Problem: Create a Python class Shape with an abstract method area(). Implement subclasses Triangle and Square with their own implementations of the area() method."
   ]
  },
  {
   "cell_type": "code",
   "execution_count": null,
   "metadata": {},
   "outputs": [],
   "source": [
    "class shape:\n",
    "    def area(self):\n",
    "        pass\n",
    "class Triangle(shape):\n",
    "    def area(self):\n",
    "        print(\"area of the triangle\")\n",
    "class square(shape):\n",
    "    def area(self):\n",
    "        print(\"area of the quare\")    \n",
    "        \n",
    "        \n",
    "sh = shape()\n",
    "Tr = Triangle()\n",
    "sq = square()\n",
    "\n",
    "Tr.area()\n",
    "sq.area()"
   ]
  }
 ],
 "metadata": {
  "kernelspec": {
   "display_name": "Python 3",
   "language": "python",
   "name": "python3"
  },
  "language_info": {
   "codemirror_mode": {
    "name": "ipython",
    "version": 3
   },
   "file_extension": ".py",
   "mimetype": "text/x-python",
   "name": "python",
   "nbconvert_exporter": "python",
   "pygments_lexer": "ipython3",
   "version": "3.12.2"
  }
 },
 "nbformat": 4,
 "nbformat_minor": 2
}
