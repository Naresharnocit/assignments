{
  "cells": [
    {
      "cell_type": "markdown",
      "metadata": {
        "id": "9_siXIRQje9m"
      },
      "source": [
        "1.Data Types: Name five different data types in Python and provide an example of each."
      ]
    },
    {
      "cell_type": "code",
      "execution_count": null,
      "metadata": {},
      "outputs": [],
      "source": [
        "data types:\n",
        "1.string\n",
        "2.int\n",
        "3.float\n",
        "4.boolean\n",
        "5.list"
      ]
    },
    {
      "cell_type": "code",
      "execution_count": 3,
      "metadata": {},
      "outputs": [
        {
          "name": "stdout",
          "output_type": "stream",
          "text": [
            "Hi naresh\n",
            "<class 'str'>\n"
          ]
        }
      ],
      "source": [
        "#string\n",
        "x = \"Hi naresh\"\n",
        "print(x)\n",
        "print(type(x))"
      ]
    },
    {
      "cell_type": "code",
      "execution_count": 4,
      "metadata": {},
      "outputs": [
        {
          "name": "stdout",
          "output_type": "stream",
          "text": [
            "23\n",
            "<class 'int'>\n"
          ]
        }
      ],
      "source": [
        "#int\n",
        "x = 23\n",
        "print(x)\n",
        "print(type(x))\n"
      ]
    },
    {
      "cell_type": "code",
      "execution_count": 5,
      "metadata": {},
      "outputs": [
        {
          "name": "stdout",
          "output_type": "stream",
          "text": [
            "12.4\n",
            "<class 'float'>\n"
          ]
        }
      ],
      "source": [
        "#float\n",
        "x = 12.4\n",
        "print(x)\n",
        "print(type(x))\n"
      ]
    },
    {
      "cell_type": "code",
      "execution_count": 6,
      "metadata": {},
      "outputs": [
        {
          "name": "stdout",
          "output_type": "stream",
          "text": [
            "True\n",
            "<class 'bool'>\n"
          ]
        }
      ],
      "source": [
        "x = True\n",
        "print(x)\n",
        "print(type(x))"
      ]
    },
    {
      "cell_type": "code",
      "execution_count": 8,
      "metadata": {},
      "outputs": [
        {
          "name": "stdout",
          "output_type": "stream",
          "text": [
            "2\n",
            "4\n",
            "5\n",
            "7\n",
            "<class 'list'>\n"
          ]
        }
      ],
      "source": [
        "#list\n",
        "x = [2 , 4 , 5 , 7]\n",
        "for i in x:\n",
        "    print(i)\n",
        "print(type(x))"
      ]
    },
    {
      "cell_type": "markdown",
      "metadata": {
        "id": "nQOdJHwHjkSP"
      },
      "source": [
        "2.Control Flow - Nested if: What is a nested if statement? Provide an example demonstrating nested if-else blocks."
      ]
    },
    {
      "cell_type": "code",
      "execution_count": 9,
      "metadata": {},
      "outputs": [
        {
          "name": "stdout",
          "output_type": "stream",
          "text": [
            "greater than 20\n",
            "greater than 30\n"
          ]
        }
      ],
      "source": [
        "#if statement can be used in another if statement, which is called nested if\n",
        "x = 50\n",
        "\n",
        "if x > 20:\n",
        "    print(\"greater than 20\")\n",
        "    if x > 30:\n",
        "        print(\"greater than 30\")\n",
        "    else:\n",
        "        print(\"not above 30\")    "
      ]
    },
    {
      "cell_type": "markdown",
      "metadata": {
        "id": "LohFxFacjrgX"
      },
      "source": [
        "3.Membership Operators: What are membership operators in Python? Provide an example demonstrating their use"
      ]
    },
    {
      "cell_type": "code",
      "execution_count": 12,
      "metadata": {},
      "outputs": [
        {
          "name": "stdout",
          "output_type": "stream",
          "text": [
            "i is presentin the given string \n"
          ]
        }
      ],
      "source": [
        "#membership operators are in and not in. which are used to check the presence of substring whithin the given string\n",
        "\n",
        "x = \"iam naresh gavvala\"\n",
        "if \"i\" in x:\n",
        "    print(\"i is presentin the given string \")\n",
        "else:\n",
        "    print(\"not presnt in the given string\")    "
      ]
    },
    {
      "cell_type": "code",
      "execution_count": 13,
      "metadata": {},
      "outputs": [
        {
          "name": "stdout",
          "output_type": "stream",
          "text": [
            "not presnt in the given string\n"
          ]
        }
      ],
      "source": [
        "x = \"iam naresh gavvala\"\n",
        "if \"i\" not in x:\n",
        "    print(\"i is presentin the given string \")\n",
        "else:\n",
        "    print(\"not presnt in the given string\")   "
      ]
    },
    {
      "cell_type": "markdown",
      "metadata": {
        "id": "ugQUjDCdjwwC"
      },
      "source": [
        "4.Loops - for loop: How does a for loop work in Python? Provide an example of iterating through a list using a for loop."
      ]
    },
    {
      "cell_type": "code",
      "execution_count": 14,
      "metadata": {},
      "outputs": [
        {
          "name": "stdout",
          "output_type": "stream",
          "text": [
            "naresh\n",
            "suresh\n",
            "ganesh\n",
            "44\n",
            "7\n"
          ]
        }
      ],
      "source": [
        "#for loop is used to iterating over a sequence .\n",
        "\n",
        "x = [\"naresh\" , \"suresh\",\"ganesh\", 44 , 7]\n",
        "for i in x:\n",
        "    print(i)"
      ]
    },
    {
      "cell_type": "markdown",
      "metadata": {
        "id": "6hh6ZV1mjyo_"
      },
      "source": [
        "5.Control Flow - match-case statement: What is the match-case statement introduced in Python 3.10, and how does it differ from traditional switch statements?"
      ]
    },
    {
      "cell_type": "code",
      "execution_count": 18,
      "metadata": {},
      "outputs": [
        {
          "name": "stdout",
          "output_type": "stream",
          "text": [
            "tuesday\n",
            "wednesday\n"
          ]
        }
      ],
      "source": [
        "#match case used to compare a variable to one or more values \n",
        "def weekday(n):\n",
        "    match n:\n",
        "        case 0: return \"monday\"\n",
        "        case 1: return \"tuesday\"\n",
        "        case 3: return \"wednesday\"\n",
        "        case 4: return \"thursday\"\n",
        "    \n",
        "\n",
        "print(weekday(1))    \n",
        "print(weekday(3))     \n",
        "    "
      ]
    },
    {
      "cell_type": "markdown",
      "metadata": {
        "id": "aS918q8Ij5JH"
      },
      "source": [
        "6.Arithmetic Operators: Explain the purpose of arithmetic operators in Python and give examples of their use."
      ]
    },
    {
      "cell_type": "code",
      "execution_count": 20,
      "metadata": {},
      "outputs": [
        {
          "name": "stdout",
          "output_type": "stream",
          "text": [
            "addition 12\n",
            "subtraction 8\n",
            "multiplication 20\n",
            "division 5.0\n"
          ]
        }
      ],
      "source": [
        "#orithmetic operators are used to perform common mathematical operations with numeric values\n",
        "x = 10\n",
        "y = 2\n",
        "print(\"addition\" ,x+y)\n",
        "print(\"subtraction\" ,x-y)\n",
        "print(\"multiplication\" ,x*y)\n",
        "print(\"division\" ,x/y)\n"
      ]
    },
    {
      "cell_type": "markdown",
      "metadata": {
        "id": "zPx-7matkfeR"
      },
      "source": [
        "7.Control Flow - Describe the use of if, elif, and else in Python's control flow and provide an example."
      ]
    },
    {
      "cell_type": "markdown",
      "metadata": {},
      "source": [
        "in a contro flow if first statement is true then it returns the value from the if statement.otherwise it returnts elif value. otherise it returns else by default"
      ]
    },
    {
      "cell_type": "code",
      "execution_count": 22,
      "metadata": {},
      "outputs": [
        {
          "name": "stdout",
          "output_type": "stream",
          "text": [
            "x is less than y\n"
          ]
        }
      ],
      "source": [
        "x = 10\n",
        "y = 20\n",
        "if x <y:\n",
        "   print(\"x is less than y\")\n",
        "elif x>y:\n",
        "   print(\"x is greater than y\")\n",
        "else:\n",
        "  print(\"x equal to y\")    \n",
        "  "
      ]
    },
    {
      "cell_type": "markdown",
      "metadata": {
        "id": "2yHXziD8q5qO"
      },
      "source": [
        "9.Variables: Describe the concept of variables in Python, including variable naming rules.Give Examples."
      ]
    },
    {
      "cell_type": "markdown",
      "metadata": {},
      "source": [
        "variables are used to store the data values.\n",
        "Rules:\n",
        "1.variable name must start with a letter or the underscore(_) character.\n",
        "2.only contains alpha-numeric characters and underscores.\n",
        "3.cannot start with a numbers\n",
        "\n",
        "ex:\n",
        "name =\"naresh\"\n",
        "_age = 30"
      ]
    },
    {
      "cell_type": "markdown",
      "metadata": {},
      "source": []
    },
    {
      "cell_type": "markdown",
      "metadata": {
        "id": "022e4cZPrBJ3"
      },
      "source": [
        "10.Bitwise Operators: Explain bitwise operators (AND, XOR) in Python with examples."
      ]
    },
    {
      "cell_type": "markdown",
      "metadata": {},
      "source": [
        "bitwise operators used to compare binary values.\n",
        "AND(&): it sets each bit to 1 if both bits are 1\n",
        "XOR(|): it sets each bit to 1 if only one of two bits is 1"
      ]
    },
    {
      "cell_type": "code",
      "execution_count": 25,
      "metadata": {},
      "outputs": [
        {
          "name": "stdout",
          "output_type": "stream",
          "text": [
            "0\n",
            "1\n"
          ]
        }
      ],
      "source": [
        "x=1\n",
        "y=0\n",
        "print(x&y)\n",
        "print(x|y)"
      ]
    },
    {
      "cell_type": "markdown",
      "metadata": {
        "id": "ZhG7bZHfrGV-"
      },
      "source": [
        "11.Loop Control - What does the break statement do in Python loops? Give an example."
      ]
    },
    {
      "cell_type": "code",
      "execution_count": 27,
      "metadata": {},
      "outputs": [
        {
          "name": "stdout",
          "output_type": "stream",
          "text": [
            "0\n",
            "1\n",
            "2\n",
            "3\n",
            "4\n"
          ]
        }
      ],
      "source": [
        "#used to immediately exit the loop when a certain condition is met\n",
        "for i in range(10):\n",
        "    if i > 4:\n",
        "        break\n",
        "    print(i)"
      ]
    },
    {
      "cell_type": "markdown",
      "metadata": {
        "id": "HOSAHxf0rKsk"
      },
      "source": [
        "12.Assignment Operators: Describe the different types of assignment operators in Python and provide examples of their usage."
      ]
    },
    {
      "cell_type": "code",
      "execution_count": 30,
      "metadata": {},
      "outputs": [
        {
          "name": "stdout",
          "output_type": "stream",
          "text": [
            "11\n"
          ]
        }
      ],
      "source": [
        "#assignment operators are used to assign the values to variables\n",
        "x = 7\n",
        "y = 4\n",
        "z = x+y\n",
        "print(z)"
      ]
    },
    {
      "cell_type": "code",
      "execution_count": 31,
      "metadata": {},
      "outputs": [
        {
          "name": "stdout",
          "output_type": "stream",
          "text": [
            "8\n"
          ]
        }
      ],
      "source": [
        "a = 3\n",
        "b = 5\n",
        "a += b\n",
        "print(a)"
      ]
    },
    {
      "cell_type": "markdown",
      "metadata": {
        "id": "5orrJ6VFrMZZ"
      },
      "source": [
        "13.String Methods: Name three string methods in Python and describe their uses."
      ]
    },
    {
      "cell_type": "code",
      "execution_count": 32,
      "metadata": {},
      "outputs": [
        {
          "name": "stdout",
          "output_type": "stream",
          "text": [
            "Gavvala naresh\n"
          ]
        }
      ],
      "source": [
        "#capitalize\n",
        "name = \"gavvala naresh\"\n",
        "x = name.capitalize()\n",
        "print(x)"
      ]
    },
    {
      "cell_type": "code",
      "execution_count": 34,
      "metadata": {},
      "outputs": [
        {
          "name": "stdout",
          "output_type": "stream",
          "text": [
            "8\n"
          ]
        }
      ],
      "source": [
        "#find\n",
        "name = \"gavvala naresh\"\n",
        "x = name.find(\"naresh\")\n",
        "print(x)"
      ]
    },
    {
      "cell_type": "code",
      "execution_count": 37,
      "metadata": {},
      "outputs": [
        {
          "name": "stdout",
          "output_type": "stream",
          "text": [
            "4\n"
          ]
        }
      ],
      "source": [
        "#count\n",
        "name = \"gavvala naresh\"\n",
        "x = name.count(\"a\")\n",
        "print(x)"
      ]
    },
    {
      "cell_type": "markdown",
      "metadata": {
        "id": "rcqvsYa_rWQ1"
      },
      "source": [
        "14.Loop Control - Describe the purpose of the continue statement in Python loops and provide an example of its use."
      ]
    },
    {
      "cell_type": "code",
      "execution_count": 38,
      "metadata": {},
      "outputs": [
        {
          "name": "stdout",
          "output_type": "stream",
          "text": [
            "0\n",
            "1\n",
            "2\n",
            "3\n",
            "4\n",
            "5\n",
            "7\n",
            "8\n",
            "9\n"
          ]
        }
      ],
      "source": [
        "#that force to execute the next iteration and skip the current iteration\n",
        "for i in range(10):\n",
        "    if i == 6:\n",
        "        continue\n",
        "    print(i)"
      ]
    },
    {
      "cell_type": "markdown",
      "metadata": {
        "id": "zzO_aJFZrb-p"
      },
      "source": [
        "15.Identity Operators: Describe identity operators in Python and explain when they are used."
      ]
    },
    {
      "cell_type": "code",
      "execution_count": 41,
      "metadata": {},
      "outputs": [
        {
          "name": "stdout",
          "output_type": "stream",
          "text": [
            "False\n",
            "True\n",
            "True\n",
            "True\n",
            "False\n",
            "False\n"
          ]
        }
      ],
      "source": [
        "#used to compare the objects. \"is\" and \"is not\"\n",
        "x = [20,30,40]\n",
        "y = [20,30,40]\n",
        "z = x\n",
        "print(x is y)# x is only equal to y values but not same object\n",
        "print(x is z)# z is the same object as x\n",
        "print(x == y)\n",
        "print(x is not y)\n",
        "print(x is not z)\n",
        "print(x != y)"
      ]
    }
  ],
  "metadata": {
    "colab": {
      "provenance": []
    },
    "kernelspec": {
      "display_name": "Python 3",
      "name": "python3"
    },
    "language_info": {
      "codemirror_mode": {
        "name": "ipython",
        "version": 3
      },
      "file_extension": ".py",
      "mimetype": "text/x-python",
      "name": "python",
      "nbconvert_exporter": "python",
      "pygments_lexer": "ipython3",
      "version": "3.12.2"
    }
  },
  "nbformat": 4,
  "nbformat_minor": 0
}
